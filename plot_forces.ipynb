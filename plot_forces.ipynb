{
 "cells": [
  {
   "cell_type": "code",
   "execution_count": 13,
   "metadata": {
    "collapsed": true
   },
   "outputs": [],
   "source": [
    "import sys, os\n",
    "import numpy as np\n",
    "from glob import glob\n",
    "import h5py\n",
    "\n",
    "import matplotlib.pyplot as plt\n",
    "\n",
    "%matplotlib inline"
   ]
  },
  {
   "cell_type": "code",
   "execution_count": 15,
   "metadata": {},
   "outputs": [],
   "source": [
    "from plot_forces import TwiddleData"
   ]
  },
  {
   "cell_type": "code",
   "execution_count": 4,
   "metadata": {},
   "outputs": [],
   "source": [
    "datadir = \"D:\\\\Twiddlefish\\\\Raw data\\\\18E\""
   ]
  },
  {
   "cell_type": "code",
   "execution_count": 11,
   "metadata": {},
   "outputs": [],
   "source": [
    "datafiles = glob(os.path.join(datadir, 'baseline*Hz*.h5'))"
   ]
  },
  {
   "cell_type": "code",
   "execution_count": 12,
   "metadata": {},
   "outputs": [
    {
     "data": {
      "text/plain": [
       "['D:\\\\Twiddlefish\\\\Raw data\\\\18E\\\\baseline1HzB_001.h5',\n 'D:\\\\Twiddlefish\\\\Raw data\\\\18E\\\\baseline1HzB_002.h5',\n 'D:\\\\Twiddlefish\\\\Raw data\\\\18E\\\\baseline1HzB_003.h5',\n 'D:\\\\Twiddlefish\\\\Raw data\\\\18E\\\\baseline1HzB_004.h5',\n 'D:\\\\Twiddlefish\\\\Raw data\\\\18E\\\\baseline1HzB_005.h5',\n 'D:\\\\Twiddlefish\\\\Raw data\\\\18E\\\\baseline1HzB_006.h5',\n 'D:\\\\Twiddlefish\\\\Raw data\\\\18E\\\\baseline1Hz_001.h5',\n 'D:\\\\Twiddlefish\\\\Raw data\\\\18E\\\\baseline1Hz_002.h5',\n 'D:\\\\Twiddlefish\\\\Raw data\\\\18E\\\\baseline1Hz_003.h5',\n 'D:\\\\Twiddlefish\\\\Raw data\\\\18E\\\\baseline1Hz_004.h5',\n 'D:\\\\Twiddlefish\\\\Raw data\\\\18E\\\\baseline1_5HzB_001.h5',\n 'D:\\\\Twiddlefish\\\\Raw data\\\\18E\\\\baseline1_5HzB_002.h5',\n 'D:\\\\Twiddlefish\\\\Raw data\\\\18E\\\\baseline1_5HzB_003.h5',\n 'D:\\\\Twiddlefish\\\\Raw data\\\\18E\\\\baseline1_5HzB_004.h5',\n 'D:\\\\Twiddlefish\\\\Raw data\\\\18E\\\\baseline1_5Hz_001.h5',\n 'D:\\\\Twiddlefish\\\\Raw data\\\\18E\\\\baseline1_5Hz_002.h5',\n 'D:\\\\Twiddlefish\\\\Raw data\\\\18E\\\\baseline1_5Hz_003.h5',\n 'D:\\\\Twiddlefish\\\\Raw data\\\\18E\\\\baseline1_5Hz_004.h5',\n 'D:\\\\Twiddlefish\\\\Raw data\\\\18E\\\\baseline1_5Hz_005.h5',\n 'D:\\\\Twiddlefish\\\\Raw data\\\\18E\\\\baseline2HzB_001.h5',\n 'D:\\\\Twiddlefish\\\\Raw data\\\\18E\\\\baseline2HzB_002.h5',\n 'D:\\\\Twiddlefish\\\\Raw data\\\\18E\\\\baseline2HzB_003.h5',\n 'D:\\\\Twiddlefish\\\\Raw data\\\\18E\\\\baseline2HzB_004.h5',\n 'D:\\\\Twiddlefish\\\\Raw data\\\\18E\\\\baseline2Hz_001.h5',\n 'D:\\\\Twiddlefish\\\\Raw data\\\\18E\\\\baseline2Hz_002.h5',\n 'D:\\\\Twiddlefish\\\\Raw data\\\\18E\\\\baseline2Hz_003.h5',\n 'D:\\\\Twiddlefish\\\\Raw data\\\\18E\\\\baseline2Hz_004.h5']"
      ]
     },
     "execution_count": 12,
     "metadata": {},
     "output_type": "execute_result"
    }
   ],
   "source": [
    "datafiles"
   ]
  },
  {
   "cell_type": "code",
   "execution_count": 16,
   "metadata": {},
   "outputs": [],
   "source": [
    "datafile = datafiles[3]"
   ]
  },
  {
   "cell_type": "code",
   "execution_count": 17,
   "metadata": {},
   "outputs": [
    {
     "ename": "TypeError",
     "evalue": "_load() takes exactly 3 arguments (2 given)",
     "traceback": [
      "\u001b[0;31m\u001b[0m",
      "\u001b[0;31mTypeError\u001b[0mTraceback (most recent call last)",
      "\u001b[0;32m<ipython-input-17-2efc81cd91af>\u001b[0m in \u001b[0;36m<module>\u001b[0;34m()\u001b[0m\n\u001b[0;32m----> 1\u001b[0;31m \u001b[0mtwiddledata\u001b[0m \u001b[0;34m=\u001b[0m \u001b[0mTwiddleData\u001b[0m\u001b[0;34m(\u001b[0m\u001b[0mdatafile\u001b[0m\u001b[0;34m,\u001b[0m \u001b[0;36m317\u001b[0m\u001b[0;34m)\u001b[0m\u001b[0;34m\u001b[0m\u001b[0m\n\u001b[0m",
      "\u001b[0;32mC:\\Users\\piv\\Documents\\twiddlefish\\twiddle3\\plot_forces.py\u001b[0m in \u001b[0;36m__init__\u001b[0;34m(self, filename, ledframe)\u001b[0m\n\u001b[1;32m      6\u001b[0m \u001b[0;32mclass\u001b[0m \u001b[0mTwiddleData\u001b[0m\u001b[0;34m(\u001b[0m\u001b[0;34m)\u001b[0m\u001b[0;34m:\u001b[0m\u001b[0;34m\u001b[0m\u001b[0m\n\u001b[1;32m      7\u001b[0m     \u001b[0;32mdef\u001b[0m \u001b[0m__init__\u001b[0m\u001b[0;34m(\u001b[0m\u001b[0mself\u001b[0m\u001b[0;34m,\u001b[0m \u001b[0mfilename\u001b[0m\u001b[0;34m,\u001b[0m \u001b[0mledframe\u001b[0m\u001b[0;34m=\u001b[0m\u001b[0;36m0\u001b[0m\u001b[0;34m)\u001b[0m\u001b[0;34m:\u001b[0m\u001b[0;34m\u001b[0m\u001b[0m\n\u001b[0;32m----> 8\u001b[0;31m         \u001b[0mself\u001b[0m\u001b[0;34m.\u001b[0m\u001b[0m_load\u001b[0m\u001b[0;34m(\u001b[0m\u001b[0mfilename\u001b[0m\u001b[0;34m,\u001b[0m \u001b[0mledframe\u001b[0m\u001b[0;34m)\u001b[0m\u001b[0;34m\u001b[0m\u001b[0m\n\u001b[0m\u001b[1;32m      9\u001b[0m \u001b[0;34m\u001b[0m\u001b[0m\n\u001b[1;32m     10\u001b[0m     \u001b[0;32mdef\u001b[0m \u001b[0m_load\u001b[0m\u001b[0;34m(\u001b[0m\u001b[0mself\u001b[0m\u001b[0;34m,\u001b[0m \u001b[0mfilename\u001b[0m\u001b[0;34m,\u001b[0m \u001b[0mledframe\u001b[0m\u001b[0;34m=\u001b[0m\u001b[0;36m0\u001b[0m\u001b[0;34m)\u001b[0m\u001b[0;34m:\u001b[0m\u001b[0;34m\u001b[0m\u001b[0m\n",
      "\u001b[0;31mTypeError\u001b[0m: _load() takes exactly 3 arguments (2 given)"
     ],
     "output_type": "error"
    }
   ],
   "source": [
    "twiddledata = TwiddleData(datafile, 317)"
   ]
  },
  {
   "cell_type": "code",
   "execution_count": null,
   "metadata": {},
   "outputs": [],
   "source": []
  }
 ],
 "metadata": {
  "kernelspec": {
   "display_name": "Python 2",
   "language": "python",
   "name": "python2"
  },
  "language_info": {
   "codemirror_mode": {
    "name": "ipython",
    "version": 2
   },
   "file_extension": ".py",
   "mimetype": "text/x-python",
   "name": "python",
   "nbconvert_exporter": "python",
   "pygments_lexer": "ipython2",
   "version": "2.7.6"
  }
 },
 "nbformat": 4,
 "nbformat_minor": 0
}
